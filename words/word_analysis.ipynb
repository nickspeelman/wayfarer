{
 "cells": [
  {
   "cell_type": "code",
   "execution_count": 1,
   "metadata": {
    "collapsed": true
   },
   "outputs": [
    {
     "name": "stderr",
     "output_type": "stream",
     "text": [
      "C:\\Users\\nspeelman.SEIU\\Anaconda3\\lib\\site-packages\\pandas\\core\\computation\\expressions.py:21: UserWarning: Pandas requires version '2.8.4' or newer of 'numexpr' (version '2.8.1' currently installed).\n",
      "  from pandas.core.computation.check import NUMEXPR_INSTALLED\n",
      "C:\\Users\\nspeelman.SEIU\\Anaconda3\\lib\\site-packages\\pandas\\core\\arrays\\masked.py:60: UserWarning: Pandas requires version '1.3.6' or newer of 'bottleneck' (version '1.3.4' currently installed).\n",
      "  from pandas.core import (\n"
     ]
    }
   ],
   "source": [
    "import json\n",
    "import pandas as pd\n",
    "import numpy as np\n",
    "import matplotlib.pyplot as plt"
   ]
  },
  {
   "cell_type": "code",
   "execution_count": 2,
   "outputs": [],
   "source": [
    "def load_scores_from_json(json_path):\n",
    "    \"\"\"\n",
    "    Load contrastive score data from a JSON file into a Pandas DataFrame.\n",
    "\n",
    "    Parameters:\n",
    "        json_path (str): Path to the checkpoint JSON file.\n",
    "\n",
    "    Returns:\n",
    "        pd.DataFrame: A DataFrame with columns ['Word', 'frequency', theme-pair scores...]\n",
    "    \"\"\"\n",
    "    with open(json_path, \"r\") as f:\n",
    "        raw_data = json.load(f)\n",
    "\n",
    "    # Convert the nested dictionary into a flat table\n",
    "    df = pd.DataFrame.from_dict(raw_data, orient=\"index\")\n",
    "    df.index.name = \"Word\"\n",
    "    df.reset_index(inplace=True)\n",
    "\n",
    "    return df"
   ],
   "metadata": {
    "collapsed": false
   }
  },
  {
   "cell_type": "code",
   "execution_count": 3,
   "outputs": [
    {
     "data": {
      "text/plain": "     Word  frequency  reflection-violence  reflection-horror  \\\n0    like    0.00257             0.009856           0.020631   \n1    time    0.00195             0.006816           0.015767   \n2   would    0.00186            -0.005095           0.015059   \n3  people    0.00178             0.001843           0.004110   \n4    also    0.00155             0.015412           0.019822   \n\n   reflection-sexuality  reflection-cruelty  reflection-addiction  \\\n0              0.014615            0.017272              0.016999   \n1              0.019398            0.030484              0.017925   \n2              0.016368            0.017068              0.010625   \n3              0.003896            0.023169              0.013910   \n4              0.019270            0.027398              0.014801   \n\n   reflection-corruption  reflection-despair  reflection-noise  ...  \\\n0               0.026926            0.011653          0.016829  ...   \n1               0.025739            0.008681          0.023650  ...   \n2               0.014614            0.001522          0.013835  ...   \n3               0.025644            0.005914          0.019303  ...   \n4               0.028150            0.001839          0.017739  ...   \n\n   belonging-violence  belonging-horror  belonging-sexuality  \\\n0            0.023913          0.034688             0.028673   \n1            0.008375          0.017327             0.020958   \n2           -0.005172          0.014983             0.016291   \n3            0.014319          0.016586             0.016372   \n4            0.015858          0.020267             0.019715   \n\n   belonging-cruelty  belonging-addiction  belonging-corruption  \\\n0           0.031329             0.031056              0.040984   \n1           0.032043             0.019484              0.027298   \n2           0.016991             0.010548              0.014537   \n3           0.035644             0.026386              0.038120   \n4           0.027844             0.015247              0.028595   \n\n   belonging-despair  belonging-noise  belonging-filth  \\\n0           0.025710         0.030886         0.034105   \n1           0.010240         0.025209         0.019968   \n2           0.001445         0.013758         0.015296   \n3           0.018390         0.031779         0.025693   \n4           0.002284         0.018185         0.020482   \n\n   belonging-dehumanization  \n0                  0.025116  \n1                 -0.000391  \n2                  0.002529  \n3                 -0.003909  \n4                  0.011928  \n\n[5 rows x 102 columns]",
      "text/html": "<div>\n<style scoped>\n    .dataframe tbody tr th:only-of-type {\n        vertical-align: middle;\n    }\n\n    .dataframe tbody tr th {\n        vertical-align: top;\n    }\n\n    .dataframe thead th {\n        text-align: right;\n    }\n</style>\n<table border=\"1\" class=\"dataframe\">\n  <thead>\n    <tr style=\"text-align: right;\">\n      <th></th>\n      <th>Word</th>\n      <th>frequency</th>\n      <th>reflection-violence</th>\n      <th>reflection-horror</th>\n      <th>reflection-sexuality</th>\n      <th>reflection-cruelty</th>\n      <th>reflection-addiction</th>\n      <th>reflection-corruption</th>\n      <th>reflection-despair</th>\n      <th>reflection-noise</th>\n      <th>...</th>\n      <th>belonging-violence</th>\n      <th>belonging-horror</th>\n      <th>belonging-sexuality</th>\n      <th>belonging-cruelty</th>\n      <th>belonging-addiction</th>\n      <th>belonging-corruption</th>\n      <th>belonging-despair</th>\n      <th>belonging-noise</th>\n      <th>belonging-filth</th>\n      <th>belonging-dehumanization</th>\n    </tr>\n  </thead>\n  <tbody>\n    <tr>\n      <th>0</th>\n      <td>like</td>\n      <td>0.00257</td>\n      <td>0.009856</td>\n      <td>0.020631</td>\n      <td>0.014615</td>\n      <td>0.017272</td>\n      <td>0.016999</td>\n      <td>0.026926</td>\n      <td>0.011653</td>\n      <td>0.016829</td>\n      <td>...</td>\n      <td>0.023913</td>\n      <td>0.034688</td>\n      <td>0.028673</td>\n      <td>0.031329</td>\n      <td>0.031056</td>\n      <td>0.040984</td>\n      <td>0.025710</td>\n      <td>0.030886</td>\n      <td>0.034105</td>\n      <td>0.025116</td>\n    </tr>\n    <tr>\n      <th>1</th>\n      <td>time</td>\n      <td>0.00195</td>\n      <td>0.006816</td>\n      <td>0.015767</td>\n      <td>0.019398</td>\n      <td>0.030484</td>\n      <td>0.017925</td>\n      <td>0.025739</td>\n      <td>0.008681</td>\n      <td>0.023650</td>\n      <td>...</td>\n      <td>0.008375</td>\n      <td>0.017327</td>\n      <td>0.020958</td>\n      <td>0.032043</td>\n      <td>0.019484</td>\n      <td>0.027298</td>\n      <td>0.010240</td>\n      <td>0.025209</td>\n      <td>0.019968</td>\n      <td>-0.000391</td>\n    </tr>\n    <tr>\n      <th>2</th>\n      <td>would</td>\n      <td>0.00186</td>\n      <td>-0.005095</td>\n      <td>0.015059</td>\n      <td>0.016368</td>\n      <td>0.017068</td>\n      <td>0.010625</td>\n      <td>0.014614</td>\n      <td>0.001522</td>\n      <td>0.013835</td>\n      <td>...</td>\n      <td>-0.005172</td>\n      <td>0.014983</td>\n      <td>0.016291</td>\n      <td>0.016991</td>\n      <td>0.010548</td>\n      <td>0.014537</td>\n      <td>0.001445</td>\n      <td>0.013758</td>\n      <td>0.015296</td>\n      <td>0.002529</td>\n    </tr>\n    <tr>\n      <th>3</th>\n      <td>people</td>\n      <td>0.00178</td>\n      <td>0.001843</td>\n      <td>0.004110</td>\n      <td>0.003896</td>\n      <td>0.023169</td>\n      <td>0.013910</td>\n      <td>0.025644</td>\n      <td>0.005914</td>\n      <td>0.019303</td>\n      <td>...</td>\n      <td>0.014319</td>\n      <td>0.016586</td>\n      <td>0.016372</td>\n      <td>0.035644</td>\n      <td>0.026386</td>\n      <td>0.038120</td>\n      <td>0.018390</td>\n      <td>0.031779</td>\n      <td>0.025693</td>\n      <td>-0.003909</td>\n    </tr>\n    <tr>\n      <th>4</th>\n      <td>also</td>\n      <td>0.00155</td>\n      <td>0.015412</td>\n      <td>0.019822</td>\n      <td>0.019270</td>\n      <td>0.027398</td>\n      <td>0.014801</td>\n      <td>0.028150</td>\n      <td>0.001839</td>\n      <td>0.017739</td>\n      <td>...</td>\n      <td>0.015858</td>\n      <td>0.020267</td>\n      <td>0.019715</td>\n      <td>0.027844</td>\n      <td>0.015247</td>\n      <td>0.028595</td>\n      <td>0.002284</td>\n      <td>0.018185</td>\n      <td>0.020482</td>\n      <td>0.011928</td>\n    </tr>\n  </tbody>\n</table>\n<p>5 rows × 102 columns</p>\n</div>"
     },
     "execution_count": 3,
     "metadata": {},
     "output_type": "execute_result"
    }
   ],
   "source": [
    "json_path = 'checkpoint_contrastive_scores.json'\n",
    "\n",
    "df = load_scores_from_json(json_path)\n",
    "\n",
    "df.head()"
   ],
   "metadata": {
    "collapsed": false
   }
  },
  {
   "cell_type": "code",
   "execution_count": 4,
   "outputs": [],
   "source": [
    "def add_median_score_column(df):\n",
    "    \"\"\"\n",
    "    Adds a 'median_score' column to the DataFrame by computing the median\n",
    "    of all contrastive score columns for each row.\n",
    "\n",
    "    Returns:\n",
    "        pd.DataFrame: The updated DataFrame with a new 'median_score' column.\n",
    "    \"\"\"\n",
    "    # Identify score columns (exclude 'Word' and 'frequency')\n",
    "    score_columns = df.columns.difference(['Word', 'frequency'])\n",
    "\n",
    "    # Calculate median across those columns\n",
    "    df[\"median_score\"] = df[score_columns].median(axis=1, numeric_only=True)\n",
    "    return df"
   ],
   "metadata": {
    "collapsed": false
   }
  },
  {
   "cell_type": "code",
   "execution_count": 5,
   "outputs": [
    {
     "data": {
      "text/plain": "          Word  frequency  median_score\n10974  embrace   0.000015      0.021963\n12484  abiding   0.000003      0.020516\n7082    serene   0.000002      0.019113\n12944  uniting   0.000002      0.019058\n542      peace   0.000105      0.018867\n...        ...        ...           ...\n4892    rapist   0.000004     -0.024708\n12464  immoral   0.000003     -0.024866\n3685     whore   0.000007     -0.024907\n12469  obscene   0.000003     -0.025521\n11395  bastard   0.000008     -0.026130\n\n[14124 rows x 3 columns]",
      "text/html": "<div>\n<style scoped>\n    .dataframe tbody tr th:only-of-type {\n        vertical-align: middle;\n    }\n\n    .dataframe tbody tr th {\n        vertical-align: top;\n    }\n\n    .dataframe thead th {\n        text-align: right;\n    }\n</style>\n<table border=\"1\" class=\"dataframe\">\n  <thead>\n    <tr style=\"text-align: right;\">\n      <th></th>\n      <th>Word</th>\n      <th>frequency</th>\n      <th>median_score</th>\n    </tr>\n  </thead>\n  <tbody>\n    <tr>\n      <th>10974</th>\n      <td>embrace</td>\n      <td>0.000015</td>\n      <td>0.021963</td>\n    </tr>\n    <tr>\n      <th>12484</th>\n      <td>abiding</td>\n      <td>0.000003</td>\n      <td>0.020516</td>\n    </tr>\n    <tr>\n      <th>7082</th>\n      <td>serene</td>\n      <td>0.000002</td>\n      <td>0.019113</td>\n    </tr>\n    <tr>\n      <th>12944</th>\n      <td>uniting</td>\n      <td>0.000002</td>\n      <td>0.019058</td>\n    </tr>\n    <tr>\n      <th>542</th>\n      <td>peace</td>\n      <td>0.000105</td>\n      <td>0.018867</td>\n    </tr>\n    <tr>\n      <th>...</th>\n      <td>...</td>\n      <td>...</td>\n      <td>...</td>\n    </tr>\n    <tr>\n      <th>4892</th>\n      <td>rapist</td>\n      <td>0.000004</td>\n      <td>-0.024708</td>\n    </tr>\n    <tr>\n      <th>12464</th>\n      <td>immoral</td>\n      <td>0.000003</td>\n      <td>-0.024866</td>\n    </tr>\n    <tr>\n      <th>3685</th>\n      <td>whore</td>\n      <td>0.000007</td>\n      <td>-0.024907</td>\n    </tr>\n    <tr>\n      <th>12469</th>\n      <td>obscene</td>\n      <td>0.000003</td>\n      <td>-0.025521</td>\n    </tr>\n    <tr>\n      <th>11395</th>\n      <td>bastard</td>\n      <td>0.000008</td>\n      <td>-0.026130</td>\n    </tr>\n  </tbody>\n</table>\n<p>14124 rows × 3 columns</p>\n</div>"
     },
     "execution_count": 5,
     "metadata": {},
     "output_type": "execute_result"
    }
   ],
   "source": [
    "df_medians = add_median_score_column(df)\n",
    "\n",
    "df_medians = df_medians.sort_values(\"median_score\", ascending=False)\n",
    "\n",
    "colz = ['Word', 'frequency','median_score']\n",
    "\n",
    "df_medians = df_medians[colz]\n",
    "\n",
    "df_medians\n"
   ],
   "metadata": {
    "collapsed": false
   }
  },
  {
   "cell_type": "code",
   "execution_count": 6,
   "outputs": [],
   "source": [
    "def plot_score_histogram(df, column_name):\n",
    "    \"\"\"\n",
    "    Plots a histogram of values in the given column from 0 to 1 using 0.001-wide bins.\n",
    "\n",
    "    Parameters:\n",
    "        df (pd.DataFrame): DataFrame containing the data.\n",
    "        column_name (str): Name of the column to plot.\n",
    "    \"\"\"\n",
    "    values = df[column_name].dropna()\n",
    "\n",
    "    # Create bins from 0.000 to 1.000 at 0.001 intervals\n",
    "    bins = np.arange(-.03, .03, 0.0001)\n",
    "\n",
    "    plt.figure(figsize=(12, 6))\n",
    "    plt.hist(values, bins=bins, edgecolor='black', alpha=0.8)\n",
    "\n",
    "    plt.title(f\"Histogram of {column_name} (0.001-resolution bins)\")\n",
    "    plt.xlabel(column_name)\n",
    "    plt.ylabel(\"Word count\")\n",
    "    plt.grid(True, linestyle='--', alpha=0.5)\n",
    "    plt.tight_layout()\n",
    "    plt.show()"
   ],
   "metadata": {
    "collapsed": false
   }
  },
  {
   "cell_type": "code",
   "execution_count": 7,
   "outputs": [
    {
     "data": {
      "text/plain": "<Figure size 864x432 with 1 Axes>",
      "image/png": "[encoded data removed]"
     },
     "metadata": {
      "needs_background": "light"
     },
     "output_type": "display_data"
    }
   ],
   "source": [
    "plot_score_histogram(df, 'median_score')"
   ],
   "metadata": {
    "collapsed": false
   }
  },
  {
   "cell_type": "code",
   "execution_count": 8,
   "outputs": [
    {
     "data": {
      "text/plain": "count    14124.000000\nmean         0.002168\nstd          0.006686\nmin         -0.026130\n25%         -0.001385\n50%          0.002925\n75%          0.006702\nmax          0.021963\nName: median_score, dtype: float64"
     },
     "execution_count": 8,
     "metadata": {},
     "output_type": "execute_result"
    }
   ],
   "source": [
    "df_medians['median_score'].describe()"
   ],
   "metadata": {
    "collapsed": false
   }
  },
  {
   "cell_type": "code",
   "execution_count": 9,
   "outputs": [
    {
     "data": {
      "text/plain": "          Word  frequency  median_score\n10974  embrace   0.000015      0.021963\n12484  abiding   0.000003      0.020516\n7082    serene   0.000002      0.019113\n12944  uniting   0.000002      0.019058\n542      peace   0.000105      0.018867\n...        ...        ...           ...\n8299     rouse   0.000001      0.004004\n1941     stats   0.000021      0.004002\n3272    reagan   0.000009      0.004002\n3923      lyon   0.000006      0.004002\n2774      lucy   0.000012      0.004001\n\n[6023 rows x 3 columns]",
      "text/html": "<div>\n<style scoped>\n    .dataframe tbody tr th:only-of-type {\n        vertical-align: middle;\n    }\n\n    .dataframe tbody tr th {\n        vertical-align: top;\n    }\n\n    .dataframe thead th {\n        text-align: right;\n    }\n</style>\n<table border=\"1\" class=\"dataframe\">\n  <thead>\n    <tr style=\"text-align: right;\">\n      <th></th>\n      <th>Word</th>\n      <th>frequency</th>\n      <th>median_score</th>\n    </tr>\n  </thead>\n  <tbody>\n    <tr>\n      <th>10974</th>\n      <td>embrace</td>\n      <td>0.000015</td>\n      <td>0.021963</td>\n    </tr>\n    <tr>\n      <th>12484</th>\n      <td>abiding</td>\n      <td>0.000003</td>\n      <td>0.020516</td>\n    </tr>\n    <tr>\n      <th>7082</th>\n      <td>serene</td>\n      <td>0.000002</td>\n      <td>0.019113</td>\n    </tr>\n    <tr>\n      <th>12944</th>\n      <td>uniting</td>\n      <td>0.000002</td>\n      <td>0.019058</td>\n    </tr>\n    <tr>\n      <th>542</th>\n      <td>peace</td>\n      <td>0.000105</td>\n      <td>0.018867</td>\n    </tr>\n    <tr>\n      <th>...</th>\n      <td>...</td>\n      <td>...</td>\n      <td>...</td>\n    </tr>\n    <tr>\n      <th>8299</th>\n      <td>rouse</td>\n      <td>0.000001</td>\n      <td>0.004004</td>\n    </tr>\n    <tr>\n      <th>1941</th>\n      <td>stats</td>\n      <td>0.000021</td>\n      <td>0.004002</td>\n    </tr>\n    <tr>\n      <th>3272</th>\n      <td>reagan</td>\n      <td>0.000009</td>\n      <td>0.004002</td>\n    </tr>\n    <tr>\n      <th>3923</th>\n      <td>lyon</td>\n      <td>0.000006</td>\n      <td>0.004002</td>\n    </tr>\n    <tr>\n      <th>2774</th>\n      <td>lucy</td>\n      <td>0.000012</td>\n      <td>0.004001</td>\n    </tr>\n  </tbody>\n</table>\n<p>6023 rows × 3 columns</p>\n</div>"
     },
     "execution_count": 9,
     "metadata": {},
     "output_type": "execute_result"
    }
   ],
   "source": [
    "cut_off = .004\n",
    "\n",
    "df_medians_filtered = df_medians[df_medians['median_score'] >= cut_off]\n",
    "\n",
    "df_medians_filtered"
   ],
   "metadata": {
    "collapsed": false
   }
  },
  {
   "cell_type": "code",
   "execution_count": 10,
   "outputs": [
    {
     "name": "stderr",
     "output_type": "stream",
     "text": [
      "C:\\Users\\nspeelman.SEIU\\AppData\\Local\\Temp\\ipykernel_74352\\2783843462.py:11: SettingWithCopyWarning: \n",
      "A value is trying to be set on a copy of a slice from a DataFrame.\n",
      "Try using .loc[row_indexer,col_indexer] = value instead\n",
      "\n",
      "See the caveats in the documentation: https://pandas.pydata.org/pandas-docs/stable/user_guide/indexing.html#returning-a-view-versus-a-copy\n",
      "  df[index_col] = df[score_col] * df[freq_col]\n"
     ]
    },
    {
     "data": {
      "text/plain": "         Word  frequency  median_score         index\n9150      one   0.002950      0.009951  2.935619e-05\n1        time   0.001950      0.011763  2.293803e-05\n0        like   0.002570      0.008567  2.201694e-05\n3      people   0.001780      0.009432  1.678940e-05\n9151      get   0.001910      0.008107  1.548437e-05\n...       ...        ...           ...           ...\n8966   stylus   0.000001      0.004105  4.310666e-09\n8937    longs   0.000001      0.004076  4.279349e-09\n10134     mew   0.000001      0.004214  4.214311e-09\n9096    gusto   0.000001      0.004066  4.066441e-09\n9106   lawton   0.000001      0.004014  4.013610e-09\n\n[6023 rows x 4 columns]",
      "text/html": "<div>\n<style scoped>\n    .dataframe tbody tr th:only-of-type {\n        vertical-align: middle;\n    }\n\n    .dataframe tbody tr th {\n        vertical-align: top;\n    }\n\n    .dataframe thead th {\n        text-align: right;\n    }\n</style>\n<table border=\"1\" class=\"dataframe\">\n  <thead>\n    <tr style=\"text-align: right;\">\n      <th></th>\n      <th>Word</th>\n      <th>frequency</th>\n      <th>median_score</th>\n      <th>index</th>\n    </tr>\n  </thead>\n  <tbody>\n    <tr>\n      <th>9150</th>\n      <td>one</td>\n      <td>0.002950</td>\n      <td>0.009951</td>\n      <td>2.935619e-05</td>\n    </tr>\n    <tr>\n      <th>1</th>\n      <td>time</td>\n      <td>0.001950</td>\n      <td>0.011763</td>\n      <td>2.293803e-05</td>\n    </tr>\n    <tr>\n      <th>0</th>\n      <td>like</td>\n      <td>0.002570</td>\n      <td>0.008567</td>\n      <td>2.201694e-05</td>\n    </tr>\n    <tr>\n      <th>3</th>\n      <td>people</td>\n      <td>0.001780</td>\n      <td>0.009432</td>\n      <td>1.678940e-05</td>\n    </tr>\n    <tr>\n      <th>9151</th>\n      <td>get</td>\n      <td>0.001910</td>\n      <td>0.008107</td>\n      <td>1.548437e-05</td>\n    </tr>\n    <tr>\n      <th>...</th>\n      <td>...</td>\n      <td>...</td>\n      <td>...</td>\n      <td>...</td>\n    </tr>\n    <tr>\n      <th>8966</th>\n      <td>stylus</td>\n      <td>0.000001</td>\n      <td>0.004105</td>\n      <td>4.310666e-09</td>\n    </tr>\n    <tr>\n      <th>8937</th>\n      <td>longs</td>\n      <td>0.000001</td>\n      <td>0.004076</td>\n      <td>4.279349e-09</td>\n    </tr>\n    <tr>\n      <th>10134</th>\n      <td>mew</td>\n      <td>0.000001</td>\n      <td>0.004214</td>\n      <td>4.214311e-09</td>\n    </tr>\n    <tr>\n      <th>9096</th>\n      <td>gusto</td>\n      <td>0.000001</td>\n      <td>0.004066</td>\n      <td>4.066441e-09</td>\n    </tr>\n    <tr>\n      <th>9106</th>\n      <td>lawton</td>\n      <td>0.000001</td>\n      <td>0.004014</td>\n      <td>4.013610e-09</td>\n    </tr>\n  </tbody>\n</table>\n<p>6023 rows × 4 columns</p>\n</div>"
     },
     "execution_count": 10,
     "metadata": {},
     "output_type": "execute_result"
    }
   ],
   "source": [
    "def add_index_column(df, score_col=\"median_score\", freq_col=\"frequency\", index_col=\"index\"):\n",
    "    \"\"\"\n",
    "    Adds an index column as the product of score_col and freq_col.\n",
    "\n",
    "    Parameters:\n",
    "        df (pd.DataFrame): Your DataFrame\n",
    "        score_col (str): Name of the score column\n",
    "        freq_col (str): Name of the frequency column\n",
    "        index_col (str): Name of the output column\n",
    "    \"\"\"\n",
    "    df[index_col] = df[score_col] * df[freq_col]\n",
    "    return df\n",
    "\n",
    "df_indexed = add_index_column(df_medians_filtered)\n",
    "\n",
    "df_indexed = df_indexed.sort_values(\"index\",ascending=False)\n",
    "\n",
    "df_indexed"
   ],
   "metadata": {
    "collapsed": false
   }
  },
  {
   "cell_type": "code",
   "execution_count": 11,
   "outputs": [
    {
     "data": {
      "text/plain": "         Word  frequency  median_score         index  normalized_index\n9150      one   0.002950      0.009951  2.935619e-05          1.000000\n1        time   0.001950      0.011763  2.293803e-05          0.781340\n0        like   0.002570      0.008567  2.201694e-05          0.749959\n3      people   0.001780      0.009432  1.678940e-05          0.571862\n9151      get   0.001910      0.008107  1.548437e-05          0.527401\n...       ...        ...           ...           ...               ...\n8966   stylus   0.000001      0.004105  4.310666e-09          0.000010\n8937    longs   0.000001      0.004076  4.279349e-09          0.000009\n10134     mew   0.000001      0.004214  4.214311e-09          0.000007\n9096    gusto   0.000001      0.004066  4.066441e-09          0.000002\n9106   lawton   0.000001      0.004014  4.013610e-09          0.000000\n\n[6023 rows x 5 columns]",
      "text/html": "<div>\n<style scoped>\n    .dataframe tbody tr th:only-of-type {\n        vertical-align: middle;\n    }\n\n    .dataframe tbody tr th {\n        vertical-align: top;\n    }\n\n    .dataframe thead th {\n        text-align: right;\n    }\n</style>\n<table border=\"1\" class=\"dataframe\">\n  <thead>\n    <tr style=\"text-align: right;\">\n      <th></th>\n      <th>Word</th>\n      <th>frequency</th>\n      <th>median_score</th>\n      <th>index</th>\n      <th>normalized_index</th>\n    </tr>\n  </thead>\n  <tbody>\n    <tr>\n      <th>9150</th>\n      <td>one</td>\n      <td>0.002950</td>\n      <td>0.009951</td>\n      <td>2.935619e-05</td>\n      <td>1.000000</td>\n    </tr>\n    <tr>\n      <th>1</th>\n      <td>time</td>\n      <td>0.001950</td>\n      <td>0.011763</td>\n      <td>2.293803e-05</td>\n      <td>0.781340</td>\n    </tr>\n    <tr>\n      <th>0</th>\n      <td>like</td>\n      <td>0.002570</td>\n      <td>0.008567</td>\n      <td>2.201694e-05</td>\n      <td>0.749959</td>\n    </tr>\n    <tr>\n      <th>3</th>\n      <td>people</td>\n      <td>0.001780</td>\n      <td>0.009432</td>\n      <td>1.678940e-05</td>\n      <td>0.571862</td>\n    </tr>\n    <tr>\n      <th>9151</th>\n      <td>get</td>\n      <td>0.001910</td>\n      <td>0.008107</td>\n      <td>1.548437e-05</td>\n      <td>0.527401</td>\n    </tr>\n    <tr>\n      <th>...</th>\n      <td>...</td>\n      <td>...</td>\n      <td>...</td>\n      <td>...</td>\n      <td>...</td>\n    </tr>\n    <tr>\n      <th>8966</th>\n      <td>stylus</td>\n      <td>0.000001</td>\n      <td>0.004105</td>\n      <td>4.310666e-09</td>\n      <td>0.000010</td>\n    </tr>\n    <tr>\n      <th>8937</th>\n      <td>longs</td>\n      <td>0.000001</td>\n      <td>0.004076</td>\n      <td>4.279349e-09</td>\n      <td>0.000009</td>\n    </tr>\n    <tr>\n      <th>10134</th>\n      <td>mew</td>\n      <td>0.000001</td>\n      <td>0.004214</td>\n      <td>4.214311e-09</td>\n      <td>0.000007</td>\n    </tr>\n    <tr>\n      <th>9096</th>\n      <td>gusto</td>\n      <td>0.000001</td>\n      <td>0.004066</td>\n      <td>4.066441e-09</td>\n      <td>0.000002</td>\n    </tr>\n    <tr>\n      <th>9106</th>\n      <td>lawton</td>\n      <td>0.000001</td>\n      <td>0.004014</td>\n      <td>4.013610e-09</td>\n      <td>0.000000</td>\n    </tr>\n  </tbody>\n</table>\n<p>6023 rows × 5 columns</p>\n</div>"
     },
     "execution_count": 11,
     "metadata": {},
     "output_type": "execute_result"
    }
   ],
   "source": [
    "def normalize_column(df, source_col=\"index\", target_col=\"normalized_index\"):\n",
    "    \"\"\"\n",
    "    Adds a normalized version of the given column to the DataFrame using min-max scaling.\n",
    "\n",
    "    Parameters:\n",
    "        df (pd.DataFrame): The input DataFrame\n",
    "        source_col (str): Column to normalize\n",
    "        target_col (str): New column to store normalized values\n",
    "    \"\"\"\n",
    "    min_val = df[source_col].min()\n",
    "    max_val = df[source_col].max()\n",
    "    df[target_col] = (df[source_col] - min_val) / (max_val - min_val)\n",
    "    return df\n",
    "\n",
    "df_normalized = normalize_column(df_indexed)\n",
    "\n",
    "df_normalized"
   ],
   "metadata": {
    "collapsed": false
   }
  },
  {
   "cell_type": "code",
   "execution_count": 13,
   "outputs": [
    {
     "name": "stdout",
     "output_type": "stream",
     "text": [
      "✅ wordlist.js written to ../js/wordlist.js\n"
     ]
    }
   ],
   "source": [
    "def export_wordlist_js(df, word_col=\"Word\", weight_col=\"normalized_index\", output_path=\"../js/wordlist.js\"):\n",
    "    \"\"\"\n",
    "    Exports a JS file that defines a meditativeWords array with:\n",
    "    { word: \"string\", index: number }\n",
    "\n",
    "    Parameters:\n",
    "        df (pd.DataFrame): DataFrame containing words and normalized scores\n",
    "        word_col (str): Column with the word strings\n",
    "        weight_col (str): Column with the normalized index values (0–1)\n",
    "        output_path (str): Path to output JS file\n",
    "    \"\"\"\n",
    "    # Keep only relevant columns, drop missing values\n",
    "    wordlist = df[[word_col, weight_col]].dropna()\n",
    "    wordlist = wordlist.rename(columns={word_col: \"word\", weight_col: \"index\"})\n",
    "\n",
    "    # Format entries as JS objects\n",
    "    js_array = \",\\n  \".join(\n",
    "        f'{{ word: \"{row.word}\", index: {round(row.index, 6)} }}'\n",
    "        for row in wordlist.itertuples(index=False)\n",
    "    )\n",
    "\n",
    "    js_code = f\"export const meditativeWords = [\\n  {js_array}\\n];\\n\"\n",
    "\n",
    "    # Write to file\n",
    "    with open(output_path, \"w\", encoding=\"utf-8\") as f:\n",
    "        f.write(js_code)\n",
    "\n",
    "    print(f\"✅ wordlist.js written to {output_path}\")\n",
    "\n",
    "# Example usage:\n",
    "# df = pd.read_csv(\"my_final_word_list.csv\")\n",
    "# export_wordlist_js(df)\n",
    "\n",
    "export_wordlist_js(df_normalized)"
   ],
   "metadata": {
    "collapsed": false
   }
  }
 ],
 "metadata": {
  "kernelspec": {
   "display_name": "Python 3",
   "language": "python",
   "name": "python3"
  },
  "language_info": {
   "codemirror_mode": {
    "name": "ipython",
    "version": 2
   },
   "file_extension": ".py",
   "mimetype": "text/x-python",
   "name": "python",
   "nbconvert_exporter": "python",
   "pygments_lexer": "ipython2",
   "version": "2.7.6"
  }
 },
 "nbformat": 4,
 "nbformat_minor": 0
}
